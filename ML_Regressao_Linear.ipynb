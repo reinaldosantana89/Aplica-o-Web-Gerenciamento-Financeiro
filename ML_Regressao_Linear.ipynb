{
  "nbformat": 4,
  "nbformat_minor": 0,
  "metadata": {
    "colab": {
      "name": "ML_Regressao_Linear.ipynb",
      "provenance": [],
      "authorship_tag": "ABX9TyM8Gq3kOrzkUjY1PufxdU4P",
      "include_colab_link": true
    },
    "kernelspec": {
      "name": "python3",
      "display_name": "Python 3"
    },
    "language_info": {
      "name": "python"
    }
  },
  "cells": [
    {
      "cell_type": "markdown",
      "metadata": {
        "id": "view-in-github",
        "colab_type": "text"
      },
      "source": [
        "<a href=\"https://colab.research.google.com/github/reinaldosantana89/App-Web-Gerenciamento-Financeiro/blob/main/ML_Regressao_Linear.ipynb\" target=\"_parent\"><img src=\"https://colab.research.google.com/assets/colab-badge.svg\" alt=\"Open In Colab\"/></a>"
      ]
    },
    {
      "cell_type": "code",
      "metadata": {
        "id": "oS0dsTWlQwnK"
      },
      "source": [
        "#importação das bibliotecas\n",
        "import pandas as pd\n",
        "import numpy as np\n",
        "import matplotlib.pyplot as plt\n",
        "import seaborn as sns\n"
      ],
      "execution_count": null,
      "outputs": []
    },
    {
      "cell_type": "code",
      "metadata": {
        "colab": {
          "base_uri": "https://localhost:8080/",
          "height": 414
        },
        "id": "pqeIpZlpScuK",
        "outputId": "8f7406b2-1636-4722-a312-949c542901af"
      },
      "source": [
        "Base_Dados = pd.read_excel('BaseDados_RegressaoLinear.xlsx', 'Plan1')\n",
        "Base_Dados\n"
      ],
      "execution_count": null,
      "outputs": [
        {
          "output_type": "execute_result",
          "data": {
            "text/html": [
              "<div>\n",
              "<style scoped>\n",
              "    .dataframe tbody tr th:only-of-type {\n",
              "        vertical-align: middle;\n",
              "    }\n",
              "\n",
              "    .dataframe tbody tr th {\n",
              "        vertical-align: top;\n",
              "    }\n",
              "\n",
              "    .dataframe thead th {\n",
              "        text-align: right;\n",
              "    }\n",
              "</style>\n",
              "<table border=\"1\" class=\"dataframe\">\n",
              "  <thead>\n",
              "    <tr style=\"text-align: right;\">\n",
              "      <th></th>\n",
              "      <th>Salario</th>\n",
              "      <th>Limite_Emprestimo</th>\n",
              "    </tr>\n",
              "  </thead>\n",
              "  <tbody>\n",
              "    <tr>\n",
              "      <th>0</th>\n",
              "      <td>1250.219130</td>\n",
              "      <td>2900.124323</td>\n",
              "    </tr>\n",
              "    <tr>\n",
              "      <th>1</th>\n",
              "      <td>1262.721321</td>\n",
              "      <td>2929.125566</td>\n",
              "    </tr>\n",
              "    <tr>\n",
              "      <th>2</th>\n",
              "      <td>1275.348535</td>\n",
              "      <td>2958.416822</td>\n",
              "    </tr>\n",
              "    <tr>\n",
              "      <th>3</th>\n",
              "      <td>1288.102020</td>\n",
              "      <td>2988.000990</td>\n",
              "    </tr>\n",
              "    <tr>\n",
              "      <th>4</th>\n",
              "      <td>1300.983040</td>\n",
              "      <td>3017.881000</td>\n",
              "    </tr>\n",
              "    <tr>\n",
              "      <th>...</th>\n",
              "      <td>...</td>\n",
              "      <td>...</td>\n",
              "    </tr>\n",
              "    <tr>\n",
              "      <th>94</th>\n",
              "      <td>3185.629581</td>\n",
              "      <td>7279.937858</td>\n",
              "    </tr>\n",
              "    <tr>\n",
              "      <th>95</th>\n",
              "      <td>3217.485877</td>\n",
              "      <td>7315.799621</td>\n",
              "    </tr>\n",
              "    <tr>\n",
              "      <th>96</th>\n",
              "      <td>3249.660736</td>\n",
              "      <td>7351.661384</td>\n",
              "    </tr>\n",
              "    <tr>\n",
              "      <th>97</th>\n",
              "      <td>3282.157343</td>\n",
              "      <td>7387.523147</td>\n",
              "    </tr>\n",
              "    <tr>\n",
              "      <th>98</th>\n",
              "      <td>3314.978916</td>\n",
              "      <td>7423.384910</td>\n",
              "    </tr>\n",
              "  </tbody>\n",
              "</table>\n",
              "<p>99 rows × 2 columns</p>\n",
              "</div>"
            ],
            "text/plain": [
              "        Salario  Limite_Emprestimo\n",
              "0   1250.219130        2900.124323\n",
              "1   1262.721321        2929.125566\n",
              "2   1275.348535        2958.416822\n",
              "3   1288.102020        2988.000990\n",
              "4   1300.983040        3017.881000\n",
              "..          ...                ...\n",
              "94  3185.629581        7279.937858\n",
              "95  3217.485877        7315.799621\n",
              "96  3249.660736        7351.661384\n",
              "97  3282.157343        7387.523147\n",
              "98  3314.978916        7423.384910\n",
              "\n",
              "[99 rows x 2 columns]"
            ]
          },
          "metadata": {
            "tags": []
          },
          "execution_count": 8
        }
      ]
    },
    {
      "cell_type": "code",
      "metadata": {
        "colab": {
          "base_uri": "https://localhost:8080/",
          "height": 202
        },
        "id": "GjCj71sZWDgi",
        "outputId": "55f62abd-e7f3-413c-a73b-85b60fdfdd64"
      },
      "source": [
        "Base_Dados.head()"
      ],
      "execution_count": null,
      "outputs": [
        {
          "output_type": "execute_result",
          "data": {
            "text/html": [
              "<div>\n",
              "<style scoped>\n",
              "    .dataframe tbody tr th:only-of-type {\n",
              "        vertical-align: middle;\n",
              "    }\n",
              "\n",
              "    .dataframe tbody tr th {\n",
              "        vertical-align: top;\n",
              "    }\n",
              "\n",
              "    .dataframe thead th {\n",
              "        text-align: right;\n",
              "    }\n",
              "</style>\n",
              "<table border=\"1\" class=\"dataframe\">\n",
              "  <thead>\n",
              "    <tr style=\"text-align: right;\">\n",
              "      <th></th>\n",
              "      <th>Salario</th>\n",
              "      <th>Limite_Emprestimo</th>\n",
              "    </tr>\n",
              "  </thead>\n",
              "  <tbody>\n",
              "    <tr>\n",
              "      <th>0</th>\n",
              "      <td>1250.219130</td>\n",
              "      <td>2900.124323</td>\n",
              "    </tr>\n",
              "    <tr>\n",
              "      <th>1</th>\n",
              "      <td>1262.721321</td>\n",
              "      <td>2929.125566</td>\n",
              "    </tr>\n",
              "    <tr>\n",
              "      <th>2</th>\n",
              "      <td>1275.348535</td>\n",
              "      <td>2958.416822</td>\n",
              "    </tr>\n",
              "    <tr>\n",
              "      <th>3</th>\n",
              "      <td>1288.102020</td>\n",
              "      <td>2988.000990</td>\n",
              "    </tr>\n",
              "    <tr>\n",
              "      <th>4</th>\n",
              "      <td>1300.983040</td>\n",
              "      <td>3017.881000</td>\n",
              "    </tr>\n",
              "  </tbody>\n",
              "</table>\n",
              "</div>"
            ],
            "text/plain": [
              "       Salario  Limite_Emprestimo\n",
              "0  1250.219130        2900.124323\n",
              "1  1262.721321        2929.125566\n",
              "2  1275.348535        2958.416822\n",
              "3  1288.102020        2988.000990\n",
              "4  1300.983040        3017.881000"
            ]
          },
          "metadata": {
            "tags": []
          },
          "execution_count": 9
        }
      ]
    },
    {
      "cell_type": "code",
      "metadata": {
        "colab": {
          "base_uri": "https://localhost:8080/",
          "height": 202
        },
        "id": "EFHe5Sq-WNx0",
        "outputId": "68f00e34-ff7b-4dd8-e2c3-7d73906c8f7b"
      },
      "source": [
        "Base_Dados.tail()"
      ],
      "execution_count": null,
      "outputs": [
        {
          "output_type": "execute_result",
          "data": {
            "text/html": [
              "<div>\n",
              "<style scoped>\n",
              "    .dataframe tbody tr th:only-of-type {\n",
              "        vertical-align: middle;\n",
              "    }\n",
              "\n",
              "    .dataframe tbody tr th {\n",
              "        vertical-align: top;\n",
              "    }\n",
              "\n",
              "    .dataframe thead th {\n",
              "        text-align: right;\n",
              "    }\n",
              "</style>\n",
              "<table border=\"1\" class=\"dataframe\">\n",
              "  <thead>\n",
              "    <tr style=\"text-align: right;\">\n",
              "      <th></th>\n",
              "      <th>Salario</th>\n",
              "      <th>Limite_Emprestimo</th>\n",
              "    </tr>\n",
              "  </thead>\n",
              "  <tbody>\n",
              "    <tr>\n",
              "      <th>94</th>\n",
              "      <td>3185.629581</td>\n",
              "      <td>7279.937858</td>\n",
              "    </tr>\n",
              "    <tr>\n",
              "      <th>95</th>\n",
              "      <td>3217.485877</td>\n",
              "      <td>7315.799621</td>\n",
              "    </tr>\n",
              "    <tr>\n",
              "      <th>96</th>\n",
              "      <td>3249.660736</td>\n",
              "      <td>7351.661384</td>\n",
              "    </tr>\n",
              "    <tr>\n",
              "      <th>97</th>\n",
              "      <td>3282.157343</td>\n",
              "      <td>7387.523147</td>\n",
              "    </tr>\n",
              "    <tr>\n",
              "      <th>98</th>\n",
              "      <td>3314.978916</td>\n",
              "      <td>7423.384910</td>\n",
              "    </tr>\n",
              "  </tbody>\n",
              "</table>\n",
              "</div>"
            ],
            "text/plain": [
              "        Salario  Limite_Emprestimo\n",
              "94  3185.629581        7279.937858\n",
              "95  3217.485877        7315.799621\n",
              "96  3249.660736        7351.661384\n",
              "97  3282.157343        7387.523147\n",
              "98  3314.978916        7423.384910"
            ]
          },
          "metadata": {
            "tags": []
          },
          "execution_count": 10
        }
      ]
    },
    {
      "cell_type": "code",
      "metadata": {
        "colab": {
          "base_uri": "https://localhost:8080/"
        },
        "id": "JAFoszx8WUbE",
        "outputId": "072d944a-5c4f-417f-e56b-6088a3397d5f"
      },
      "source": [
        "Base_Dados.columns"
      ],
      "execution_count": null,
      "outputs": [
        {
          "output_type": "execute_result",
          "data": {
            "text/plain": [
              "Index(['Salario', 'Limite_Emprestimo'], dtype='object')"
            ]
          },
          "metadata": {
            "tags": []
          },
          "execution_count": 11
        }
      ]
    },
    {
      "cell_type": "code",
      "metadata": {
        "colab": {
          "base_uri": "https://localhost:8080/"
        },
        "id": "OgQX6AtQWaS2",
        "outputId": "9470bdc5-a86e-4f52-88f7-d59af019e6ac"
      },
      "source": [
        "Base_Dados.info()"
      ],
      "execution_count": null,
      "outputs": [
        {
          "output_type": "stream",
          "text": [
            "<class 'pandas.core.frame.DataFrame'>\n",
            "RangeIndex: 99 entries, 0 to 98\n",
            "Data columns (total 2 columns):\n",
            " #   Column             Non-Null Count  Dtype  \n",
            "---  ------             --------------  -----  \n",
            " 0   Salario            99 non-null     float64\n",
            " 1   Limite_Emprestimo  99 non-null     float64\n",
            "dtypes: float64(2)\n",
            "memory usage: 1.7 KB\n"
          ],
          "name": "stdout"
        }
      ]
    },
    {
      "cell_type": "code",
      "metadata": {
        "colab": {
          "base_uri": "https://localhost:8080/",
          "height": 294
        },
        "id": "zo_3D5zxWja3",
        "outputId": "c9c5ab09-b728-4150-d607-5d861cbcfb71"
      },
      "source": [
        "Base_Dados.describe()"
      ],
      "execution_count": null,
      "outputs": [
        {
          "output_type": "execute_result",
          "data": {
            "text/html": [
              "<div>\n",
              "<style scoped>\n",
              "    .dataframe tbody tr th:only-of-type {\n",
              "        vertical-align: middle;\n",
              "    }\n",
              "\n",
              "    .dataframe tbody tr th {\n",
              "        vertical-align: top;\n",
              "    }\n",
              "\n",
              "    .dataframe thead th {\n",
              "        text-align: right;\n",
              "    }\n",
              "</style>\n",
              "<table border=\"1\" class=\"dataframe\">\n",
              "  <thead>\n",
              "    <tr style=\"text-align: right;\">\n",
              "      <th></th>\n",
              "      <th>Salario</th>\n",
              "      <th>Limite_Emprestimo</th>\n",
              "    </tr>\n",
              "  </thead>\n",
              "  <tbody>\n",
              "    <tr>\n",
              "      <th>count</th>\n",
              "      <td>99.000000</td>\n",
              "      <td>99.000000</td>\n",
              "    </tr>\n",
              "    <tr>\n",
              "      <th>mean</th>\n",
              "      <td>2119.100581</td>\n",
              "      <td>4900.652060</td>\n",
              "    </tr>\n",
              "    <tr>\n",
              "      <th>std</th>\n",
              "      <td>600.832983</td>\n",
              "      <td>1378.113961</td>\n",
              "    </tr>\n",
              "    <tr>\n",
              "      <th>min</th>\n",
              "      <td>1250.219130</td>\n",
              "      <td>2900.124323</td>\n",
              "    </tr>\n",
              "    <tr>\n",
              "      <th>25%</th>\n",
              "      <td>1595.383780</td>\n",
              "      <td>3700.800280</td>\n",
              "    </tr>\n",
              "    <tr>\n",
              "      <th>50%</th>\n",
              "      <td>2035.792243</td>\n",
              "      <td>4722.412623</td>\n",
              "    </tr>\n",
              "    <tr>\n",
              "      <th>75%</th>\n",
              "      <td>2597.840528</td>\n",
              "      <td>6026.191986</td>\n",
              "    </tr>\n",
              "    <tr>\n",
              "      <th>max</th>\n",
              "      <td>3314.978916</td>\n",
              "      <td>7423.384910</td>\n",
              "    </tr>\n",
              "  </tbody>\n",
              "</table>\n",
              "</div>"
            ],
            "text/plain": [
              "           Salario  Limite_Emprestimo\n",
              "count    99.000000          99.000000\n",
              "mean   2119.100581        4900.652060\n",
              "std     600.832983        1378.113961\n",
              "min    1250.219130        2900.124323\n",
              "25%    1595.383780        3700.800280\n",
              "50%    2035.792243        4722.412623\n",
              "75%    2597.840528        6026.191986\n",
              "max    3314.978916        7423.384910"
            ]
          },
          "metadata": {
            "tags": []
          },
          "execution_count": 13
        }
      ]
    },
    {
      "cell_type": "code",
      "metadata": {
        "id": "fdSktTWqW8xw"
      },
      "source": [
        "#converter para um Array\n",
        "Eixo_x = Base_Dados.iloc[:,0].values\n",
        "Eixo_y = Base_Dados.iloc[:,1].values"
      ],
      "execution_count": null,
      "outputs": []
    },
    {
      "cell_type": "code",
      "metadata": {
        "colab": {
          "base_uri": "https://localhost:8080/"
        },
        "id": "2T3D3ulqXevj",
        "outputId": "09a5f0a6-ce99-44dd-c7bd-906390e1762e"
      },
      "source": [
        "Eixo_x"
      ],
      "execution_count": null,
      "outputs": [
        {
          "output_type": "execute_result",
          "data": {
            "text/plain": [
              "array([1250.21913   , 1262.7213213 , 1275.34853451, 1288.10201986,\n",
              "       1300.98304006, 1313.99287046, 1327.13279916, 1340.40412715,\n",
              "       1353.80816843, 1367.34625011, 1381.01971261, 1394.82990974,\n",
              "       1408.77820883, 1422.86599092, 1437.09465083, 1451.46559734,\n",
              "       1465.98025331, 1480.64005585, 1495.4464564 , 1510.40092097,\n",
              "       1525.50493018, 1540.75997948, 1556.16757927, 1571.72925507,\n",
              "       1587.44654762, 1603.32101309, 1619.35422323, 1635.54776546,\n",
              "       1651.90324311, 1668.42227554, 1685.1064983 , 1701.95756328,\n",
              "       1718.97713891, 1736.1669103 , 1753.52857941, 1771.0638652 ,\n",
              "       1788.77450385, 1806.66224889, 1824.72887138, 1842.97616009,\n",
              "       1861.4059217 , 1880.01998091, 1898.82018072, 1917.80838253,\n",
              "       1936.98646635, 1956.35633102, 1975.91989433, 1995.67909327,\n",
              "       2015.6358842 , 2035.79224305, 2056.15016548, 2076.71166713,\n",
              "       2097.4787838 , 2118.45357164, 2139.63810736, 2161.03448843,\n",
              "       2182.64483331, 2204.47128165, 2226.51599446, 2248.78115441,\n",
              "       2271.26896595, 2293.98165561, 2316.92147217, 2340.09068689,\n",
              "       2363.49159376, 2387.1265097 , 2410.99777479, 2435.10775254,\n",
              "       2459.45883007, 2484.05341837, 2508.89395255, 2533.98289208,\n",
              "       2559.322721  , 2584.91594821, 2610.76510769, 2636.87275877,\n",
              "       2663.24148635, 2689.87390122, 2716.77264023, 2743.94036663,\n",
              "       2771.3797703 , 2799.093568  , 2827.08450368, 2855.35534872,\n",
              "       2883.90890221, 2912.74799123, 2941.87547114, 2971.29422585,\n",
              "       3001.00716811, 3031.01723979, 3061.32741219, 3091.94068631,\n",
              "       3122.86009317, 3154.08869411, 3185.62958105, 3217.48587686,\n",
              "       3249.66073563, 3282.15734298, 3314.97891641])"
            ]
          },
          "metadata": {
            "tags": []
          },
          "execution_count": 17
        }
      ]
    },
    {
      "cell_type": "code",
      "metadata": {
        "colab": {
          "base_uri": "https://localhost:8080/"
        },
        "id": "WDTM4yypXmCq",
        "outputId": "cfaca78b-b47c-4ecb-b5a2-09e23b61b7cf"
      },
      "source": [
        "Eixo_y"
      ],
      "execution_count": null,
      "outputs": [
        {
          "output_type": "execute_result",
          "data": {
            "text/plain": [
              "array([2900.124323  , 2929.12556623, 2958.41682189, 2988.00099011,\n",
              "       3017.88100001, 3048.05981001, 3078.54040811, 3109.32581219,\n",
              "       3140.41907032, 3171.82326102, 3203.54149363, 3235.57690857,\n",
              "       3267.93267765, 3300.61200443, 3333.61812447, 3366.95430572,\n",
              "       3400.62384877, 3434.63008726, 3434.63008726, 3434.63008726,\n",
              "       3434.63008726, 3574.08984167, 3609.83074009, 3645.92904749,\n",
              "       3682.38833796, 3719.21222134, 3756.40434356, 3793.96838699,\n",
              "       3831.90807086, 3870.22715157, 3870.22715157, 3870.22715157,\n",
              "       3870.22715157, 4027.37389354, 4067.64763247, 4108.3241088 ,\n",
              "       4149.40734988, 4190.90142338, 4232.81043762, 4275.13854199,\n",
              "       4317.88992741, 4361.06882669, 4404.67951495, 4448.7263101 ,\n",
              "       4493.2135732 , 4538.14570894, 4583.52716602, 4629.36243768,\n",
              "       4675.65606206, 4722.41262268, 4769.63674891, 4817.3331164 ,\n",
              "       4865.50644756, 4914.16151204, 4963.30312716, 5012.93615843,\n",
              "       5063.06552001, 5113.69617521, 5164.83313697, 5216.48146834,\n",
              "       5268.64628302, 5321.33274585, 5374.54607331, 5428.29153404,\n",
              "       5482.57444938, 5537.40019388, 5592.77419581, 5648.70193777,\n",
              "       5705.18895715, 5762.24084672, 5819.86325519, 5878.06188774,\n",
              "       5936.84250662, 5996.21093168, 6056.173041  , 6116.73477141,\n",
              "       6177.90211913, 6239.68114032, 6302.07795172, 6365.09873124,\n",
              "       6428.74971855, 6493.03721573, 6557.96758789, 6623.54726377,\n",
              "       6689.78273641, 6756.68056377, 6824.24736941, 6892.4898431 ,\n",
              "       6961.41474154, 7031.02888895, 7101.33917784, 7172.35256962,\n",
              "       7208.21433247, 7244.07609532, 7279.93785816, 7315.79962101,\n",
              "       7351.66138386, 7387.52314671, 7423.38490956])"
            ]
          },
          "metadata": {
            "tags": []
          },
          "execution_count": 18
        }
      ]
    },
    {
      "cell_type": "code",
      "metadata": {
        "colab": {
          "base_uri": "https://localhost:8080/",
          "height": 367
        },
        "id": "WP3Ot--rXsFK",
        "outputId": "f3ba714b-0a56-4e09-b10d-1839b4e81560"
      },
      "source": [
        "plt.figure( figsize=(10,5))\n",
        "plt.scatter( Eixo_x, Eixo_y);\n",
        "plt.title('Gráfico com 2 Eixos [Salário x Limite]')\n",
        "plt.xlabel('Salário')\n",
        "plt.ylabel('Limite')"
      ],
      "execution_count": null,
      "outputs": [
        {
          "output_type": "execute_result",
          "data": {
            "text/plain": [
              "Text(0, 0.5, 'Limite')"
            ]
          },
          "metadata": {
            "tags": []
          },
          "execution_count": 21
        },
        {
          "output_type": "display_data",
          "data": {
            "image/png": "[encoded data removed]",
            "text/plain": [
              "<Figure size 720x360 with 1 Axes>"
            ]
          },
          "metadata": {
            "tags": [],
            "needs_background": "light"
          }
        }
      ]
    },
    {
      "cell_type": "code",
      "metadata": {
        "colab": {
          "base_uri": "https://localhost:8080/",
          "height": 325
        },
        "id": "B43p0Px1X5px",
        "outputId": "4b53568e-3abb-4f7d-8555-6b564ed5707d"
      },
      "source": [
        "plt.figure( figsize=(10,5))\n",
        "sns.heatmap( Base_Dados.isnull() );"
      ],
      "execution_count": 28,
      "outputs": [
        {
          "output_type": "display_data",
          "data": {
            "image/png": "[encoded data removed]",
            "text/plain": [
              "<Figure size 720x360 with 2 Axes>"
            ]
          },
          "metadata": {
            "tags": [],
            "needs_background": "light"
          }
        }
      ]
    },
    {
      "cell_type": "code",
      "metadata": {
        "colab": {
          "base_uri": "https://localhost:8080/",
          "height": 374
        },
        "id": "HOMEX7dsdD38",
        "outputId": "4e37873a-f735-4f15-81a0-73d4c4eb5670"
      },
      "source": [
        "sns.pairplot( Base_Dados);"
      ],
      "execution_count": 29,
      "outputs": [
        {
          "output_type": "display_data",
          "data": {
            "image/png": "[encoded data removed]",
            "text/plain": [
              "<Figure size 360x360 with 6 Axes>"
            ]
          },
          "metadata": {
            "tags": [],
            "needs_background": "light"
          }
        }
      ]
    },
    {
      "cell_type": "code",
      "metadata": {
        "colab": {
          "base_uri": "https://localhost:8080/"
        },
        "id": "gzZJrLILdglJ",
        "outputId": "dd7e5ae4-b8ba-4b14-fd28-dab6acd36fea"
      },
      "source": [
        "Correlação = np.corrcoef( Eixo_x, Eixo_y)\n",
        "Correlação"
      ],
      "execution_count": 30,
      "outputs": [
        {
          "output_type": "execute_result",
          "data": {
            "text/plain": [
              "array([[1.        , 0.99949773],\n",
              "       [0.99949773, 1.        ]])"
            ]
          },
          "metadata": {
            "tags": []
          },
          "execution_count": 30
        }
      ]
    },
    {
      "cell_type": "code",
      "metadata": {
        "id": "u5LAb5S2ftPW"
      },
      "source": [
        ""
      ],
      "execution_count": null,
      "outputs": []
    },
    {
      "cell_type": "code",
      "metadata": {
        "colab": {
          "base_uri": "https://localhost:8080/",
          "height": 324
        },
        "id": "n0FNX4Hmft6G",
        "outputId": "315c27a9-d07c-4736-e79d-fd201c2005b9"
      },
      "source": [
        "plt.figure( figsize=(10,5))\n",
        "sns.heatmap( Correlação, annot=True);"
      ],
      "execution_count": 32,
      "outputs": [
        {
          "output_type": "display_data",
          "data": {
            "image/png": "[encoded data removed]",
            "text/plain": [
              "<Figure size 720x360 with 2 Axes>"
            ]
          },
          "metadata": {
            "tags": [],
            "needs_background": "light"
          }
        }
      ]
    },
    {
      "cell_type": "code",
      "metadata": {
        "id": "FZ9suZmKf_gQ"
      },
      "source": [
        ""
      ],
      "execution_count": null,
      "outputs": []
    }
  ]
}